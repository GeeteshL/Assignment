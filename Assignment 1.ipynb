{
 "cells": [
  {
   "cell_type": "code",
   "execution_count": 1,
   "id": "11dd297d",
   "metadata": {},
   "outputs": [],
   "source": [
    "#\n",
    "1. In the below elements which of them are values or an expression? eg:- values can be\n",
    "integer or string and expressions will be mathematical operators.\n",
    "Answer *    = Expression\n",
    "      hello = values\n",
    "      -87.8 = values\n",
    "       -    = Expression\n",
    "        /   = Expression \n",
    "        +   = Expression\n",
    "        6   = values"
   ]
  },
  {
   "cell_type": "code",
   "execution_count": 2,
   "id": "2178b69f",
   "metadata": {},
   "outputs": [],
   "source": [
    "#\n",
    "2. What is the difference between string and variable?\n",
    "Ans                    String                                   :                            Varibles\n",
    "    A string is a sequence of one or more character             :  variables are symbols that you can use to store data in\n",
    "    (letter, number ,symbols) that can be either                :  a program .Strings are data , so we cabn use them to fill \n",
    "    a constant or a varibles .made up of unicode,               : up a varibles .Declaring strings as variables can make it   \n",
    "    string are immutable ,sequence, meaning they                : easier for us to work with string throughout our python \n",
    "    are unchanging.                                             : programs.\n",
    "    \n",
    "    \n",
    "                        \n",
    "                        \n",
    "                            \n",
    "                            "
   ]
  },
  {
   "cell_type": "code",
   "execution_count": 3,
   "id": "09771bf0",
   "metadata": {},
   "outputs": [],
   "source": [
    "3. Describe  different data types.\n",
    "Ans.Text Type:str\n",
    "    Numeric Types:int, float, complex\n",
    "    Sequence Types:list, tuple, range\n",
    "    Mapping Type:dict\n",
    "    Set Types:set, frozenset\n",
    "    Boolean Type: bool\n",
    "    Binary Types:bytes, bytearray, memoryview\n",
    "    None Type:NoneType\n"
   ]
  },
  {
   "cell_type": "code",
   "execution_count": null,
   "id": "da14bcbe",
   "metadata": {},
   "outputs": [],
   "source": [
    "4. What is an expression made up of? What do all expressions do?\n",
    "Ans.:- \n",
    "    An expression is combination of operator and operands that is interpreted to produce somne other value . In any programming language , an \n",
    "    expression is evaluate as per the precedence of its operators .\n",
    "    so that if there is more than once oprator in an expresssion, their precedence decides which opration will be performed first. "
   ]
  },
  {
   "cell_type": "code",
   "execution_count": null,
   "id": "544e9db1",
   "metadata": {},
   "outputs": [],
   "source": [
    "5. This assignment statements, like spam = 10. What is the difference between an\n",
    "expression and a statement?\n",
    "Ans. Expresssion :- (1)an expression evaluates to value.\n",
    "                    (2)the evaluation a statement does not changes state \n",
    "                    (3)Evaluation of an expresssion always produces or returns a result value.\n",
    "                    (4)Every expression can't be a statement.\n",
    "     Statement   :- (1)A statement executes something            \n",
    "                    (2)the execution of a statements changes states.\n",
    "                    (3)Exceution of statements may or may not produces or displays a result value , it only does whatever the statement says.\n",
    "                    (4)Every statement can be an expression."
   ]
  },
  {
   "cell_type": "code",
   "execution_count": 6,
   "id": "16755749",
   "metadata": {},
   "outputs": [
    {
     "data": {
      "text/plain": [
       "23"
      ]
     },
     "execution_count": 6,
     "metadata": {},
     "output_type": "execute_result"
    }
   ],
   "source": [
    "5. This assignment statements, like spam = 10. What is the difference between an\n",
    "expression and a statement?\n",
    "Ans. becon contain 22 as an integer\n",
    "becon = 22\n",
    "becon + 1"
   ]
  },
  {
   "cell_type": "code",
   "execution_count": 7,
   "id": "a2a854e1",
   "metadata": {},
   "outputs": [
    {
     "data": {
      "text/plain": [
       "'spamspamspam'"
      ]
     },
     "execution_count": 7,
     "metadata": {},
     "output_type": "execute_result"
    }
   ],
   "source": [
    "7. What should the values of the following two terms be?\n",
    "spam + spamspam\n",
    "spam * 3\n",
    "Ans.\n",
    "'spam'+'spamspam'\n",
    "'spam'*3"
   ]
  },
  {
   "cell_type": "code",
   "execution_count": null,
   "id": "485b1841",
   "metadata": {},
   "outputs": [],
   "source": [
    "8. Why is eggs a valid variable name while 100 is invalid?\n",
    "Ans.eggs a valid variable name while 100 is invalid because variable names cannot begin with a number. "
   ]
  },
  {
   "cell_type": "code",
   "execution_count": null,
   "id": "dbe76d95",
   "metadata": {},
   "outputs": [],
   "source": [
    "9. What three functions can be used to get the integer, floating-point number, or string\n",
    "version of a value?\n",
    "Ans.\n",
    "    int()\n",
    "    float()\n",
    "    str()"
   ]
  },
  {
   "cell_type": "code",
   "execution_count": 8,
   "id": "0c285d1d",
   "metadata": {
    "scrolled": true
   },
   "outputs": [
    {
     "ename": "TypeError",
     "evalue": "can only concatenate str (not \"int\") to str",
     "output_type": "error",
     "traceback": [
      "\u001b[1;31m---------------------------------------------------------------------------\u001b[0m",
      "\u001b[1;31mTypeError\u001b[0m                                 Traceback (most recent call last)",
      "Input \u001b[1;32mIn [8]\u001b[0m, in \u001b[0;36m<cell line: 1>\u001b[1;34m()\u001b[0m\n\u001b[1;32m----> 1\u001b[0m \u001b[38;5;124;43m'\u001b[39;49m\u001b[38;5;124;43mi have eaten\u001b[39;49m\u001b[38;5;124;43m'\u001b[39;49m\u001b[38;5;241;43m+\u001b[39;49m\u001b[38;5;241;43m99\u001b[39;49m\u001b[38;5;241m+\u001b[39m\u001b[38;5;124m'\u001b[39m\u001b[38;5;124mburritos\u001b[39m\u001b[38;5;124m'\u001b[39m\n",
      "\u001b[1;31mTypeError\u001b[0m: can only concatenate str (not \"int\") to str"
     ]
    }
   ],
   "source": [
    "10. Why does this expression cause an error? How can you fix it?\n",
    "I have eaten  + 99 + burritos\n",
    "'i have eaten'+99+'burritos'\n",
    "Ans.:- this expression cause an error because its typeError.\n",
    "can only concatenate str (not \"int\") to str\n"
   ]
  },
  {
   "cell_type": "code",
   "execution_count": 10,
   "id": "9bd364a6",
   "metadata": {},
   "outputs": [
    {
     "data": {
      "text/plain": [
       "'I have eaten  99 Burritos'"
      ]
     },
     "execution_count": 10,
     "metadata": {},
     "output_type": "execute_result"
    }
   ],
   "source": [
    "#this how we can fix it \n",
    "'I have eaten '+' 99 ' +'Burritos'"
   ]
  },
  {
   "cell_type": "code",
   "execution_count": null,
   "id": "442fe015",
   "metadata": {},
   "outputs": [],
   "source": []
  }
 ],
 "metadata": {
  "kernelspec": {
   "display_name": "Python 3 (ipykernel)",
   "language": "python",
   "name": "python3"
  },
  "language_info": {
   "codemirror_mode": {
    "name": "ipython",
    "version": 3
   },
   "file_extension": ".py",
   "mimetype": "text/x-python",
   "name": "python",
   "nbconvert_exporter": "python",
   "pygments_lexer": "ipython3",
   "version": "3.9.12"
  }
 },
 "nbformat": 4,
 "nbformat_minor": 5
}
