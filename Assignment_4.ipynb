{
 "cells": [
  {
   "cell_type": "code",
   "execution_count": null,
   "id": "d5457333",
   "metadata": {},
   "outputs": [],
   "source": [
    "1. What exactly is []?\n",
    "Ans.:-this is Empty list value,which is a list value that contains no items."
   ]
  },
  {
   "cell_type": "code",
   "execution_count": null,
   "id": "bcf96916",
   "metadata": {},
   "outputs": [],
   "source": [
    "2. In a list of values stored in a variable called spam, how would you assign the value hell; as the\n",
    "third value? (Assume [2, 4, 6, 8, 10] are in spam.)"
   ]
  },
  {
   "cell_type": "code",
   "execution_count": 5,
   "id": "8745d597",
   "metadata": {},
   "outputs": [
    {
     "name": "stdout",
     "output_type": "stream",
     "text": [
      "6\n"
     ]
    }
   ],
   "source": [
    "spam = [2,4,6,8,10]\n",
    "hello = spam[2]\n",
    "print(hello)"
   ]
  },
  {
   "cell_type": "code",
   "execution_count": null,
   "id": "0b7dae83",
   "metadata": {},
   "outputs": [],
   "source": [
    "Lets pretend the spam include the list ['a','b','c','d'] for the next queries"
   ]
  },
  {
   "cell_type": "code",
   "execution_count": null,
   "id": "a292e387",
   "metadata": {},
   "outputs": [],
   "source": [
    "3. What is the value of spam[int(int('3' * 2) / 11)]?\n"
   ]
  },
  {
   "cell_type": "code",
   "execution_count": 6,
   "id": "5f164d24",
   "metadata": {},
   "outputs": [
    {
     "data": {
      "text/plain": [
       "'d'"
      ]
     },
     "execution_count": 6,
     "metadata": {},
     "output_type": "execute_result"
    }
   ],
   "source": [
    "spam =  ['a','b','c','d']\n",
    "spam[int(int ('3'*2)/11)]\n"
   ]
  },
  {
   "cell_type": "code",
   "execution_count": 7,
   "id": "0863da8f",
   "metadata": {},
   "outputs": [
    {
     "data": {
      "text/plain": [
       "'d'"
      ]
     },
     "execution_count": 7,
     "metadata": {},
     "output_type": "execute_result"
    }
   ],
   "source": [
    "#4. What is the value of spam[-1]?\n",
    "spam[-1]"
   ]
  },
  {
   "cell_type": "code",
   "execution_count": 8,
   "id": "b1eb7775",
   "metadata": {},
   "outputs": [
    {
     "data": {
      "text/plain": [
       "['a', 'b']"
      ]
     },
     "execution_count": 8,
     "metadata": {},
     "output_type": "execute_result"
    }
   ],
   "source": [
    "#5.what is the value of spam [:2]?\n",
    "spam[:2]"
   ]
  },
  {
   "cell_type": "code",
   "execution_count": null,
   "id": "7bfd6d50",
   "metadata": {},
   "outputs": [],
   "source": [
    "Let&#39;s pretend bacon has the list [3.14,'cat', 11,cat, True] for the next three questions."
   ]
  },
  {
   "cell_type": "code",
   "execution_count": 26,
   "id": "98b1a2de",
   "metadata": {},
   "outputs": [
    {
     "data": {
      "text/plain": [
       "1"
      ]
     },
     "execution_count": 26,
     "metadata": {},
     "output_type": "execute_result"
    }
   ],
   "source": [
    "#6.what is value of bacon.index('cat')?\n",
    "becon = [3.14,'cat', 11,'cat', True]\n",
    "becon.index('cat')"
   ]
  },
  {
   "cell_type": "code",
   "execution_count": 27,
   "id": "4efb0172",
   "metadata": {},
   "outputs": [
    {
     "name": "stdout",
     "output_type": "stream",
     "text": [
      "[3.14, 'cat', 11, 'cat', True, 99]\n"
     ]
    }
   ],
   "source": [
    "#7.How does becon.append(99)change the look of the list value in becon?\n",
    "becon.append(99)\n",
    "print(becon)"
   ]
  },
  {
   "cell_type": "code",
   "execution_count": 28,
   "id": "2ff1fca1",
   "metadata": {},
   "outputs": [
    {
     "data": {
      "text/plain": [
       "[3.14, 'cat', 11, 'cat', True, 99]"
      ]
     },
     "execution_count": 28,
     "metadata": {},
     "output_type": "execute_result"
    }
   ],
   "source": [
    "becon"
   ]
  },
  {
   "cell_type": "code",
   "execution_count": 29,
   "id": "d343fe81",
   "metadata": {},
   "outputs": [
    {
     "name": "stdout",
     "output_type": "stream",
     "text": [
      "[3.14, 11, 'cat', True, 99]\n"
     ]
    }
   ],
   "source": [
    "#8.How does becon.remove('cat')change the look of the list in becon?\n",
    "becon.remove('cat')\n",
    "print(becon)"
   ]
  },
  {
   "cell_type": "code",
   "execution_count": null,
   "id": "f31243ee",
   "metadata": {},
   "outputs": [],
   "source": [
    "#9. What are the concatenation and list replication operators ?\n",
    "Ans.:- the operator for list concatenation is '+',While the operator for replication is '*'.[this is same as for string]\n"
   ]
  },
  {
   "cell_type": "code",
   "execution_count": null,
   "id": "31b0b88f",
   "metadata": {},
   "outputs": [],
   "source": [
    "#10. What is difference between the list methods append() and insert()?\n",
    "Ans.:- while append() will add values only to the end of list , insert() can add them anywhere in the list."
   ]
  },
  {
   "cell_type": "code",
   "execution_count": null,
   "id": "5aeef23f",
   "metadata": {},
   "outputs": [],
   "source": [
    "#11. What are the two methods for removing items from a list?\n",
    "Ans.:- remove() :- it help to remove the very first given element matching from the list.\n",
    "       pop()    :- the pop() method removes an element from the list based on the index given .\n",
    "       clear()  :- the clear() method will remove all the element present in the list ."
   ]
  },
  {
   "cell_type": "code",
   "execution_count": null,
   "id": "064f3440",
   "metadata": {},
   "outputs": [],
   "source": [
    "#12. Describe how list values and string values are identical.\n",
    "Ans.:- The similarity betweenlits and strings in python is that are sequences. the difference between them are that firstly, list are mutable but string are immutable .secondly element of a list cab be different type whereas a string only contain characters that are all of string type."
   ]
  },
  {
   "cell_type": "code",
   "execution_count": null,
   "id": "b8cfcfc9",
   "metadata": {},
   "outputs": [],
   "source": [
    "#13. What is the difference between tuples and lists?\n",
    "Ans.:- List:-\n",
    "        (1) It is Mutable\n",
    "        (2) The implication of iteration is time consuming in the list \n",
    "        (3) Operations like insertion and deletion are better performed .\n",
    "        (4) Consume more memory.\n",
    "        (5) Many built-in method are avialable.\n",
    "       Tuple :-\n",
    "        (1) It is immutable\n",
    "        (2) Implication of iteration are much faster in tuple.\n",
    "        (3) Element can be accessed better \n",
    "        (4) Consume less memory \n",
    "        (5) Does not have many built in methods.\n",
    "        \n",
    "        "
   ]
  },
  {
   "cell_type": "code",
   "execution_count": null,
   "id": "36a8e80b",
   "metadata": {},
   "outputs": [],
   "source": [
    "#14. How do you type a tuple value that only contains the integer 42?\n",
    "Ans.:-(42), This way to type tuple value that only contains the integer 42 .                      "
   ]
  },
  {
   "cell_type": "code",
   "execution_count": null,
   "id": "25b4d0a7",
   "metadata": {},
   "outputs": [],
   "source": [
    "#15. How do you get a list values tuple form? How do you get a tuple values list form?\n",
    "Ans.:- Python language consists of various built-in functions to ease your programming and the tuple() function is one of them. tuple () function can take any iterable as an argument and convert it into a tuple object.\n",
    "     To convert a tuple into list in Python, call list() builtin function and pass the tuple as argument to the function. list() returns a new list generated from the items of the given tuple.\n",
    "    "
   ]
  },
  {
   "cell_type": "code",
   "execution_count": null,
   "id": "c778b61a",
   "metadata": {},
   "outputs": [],
   "source": [
    "#16. Variables that contain list values are not necessarily lists themselves. Instead, what do they\n",
    "contain?\n",
    "Ans:- Variables will contain references to list values rather than list values themselves. But for strings and integer values, variables simply contain the string or integer value."
   ]
  },
  {
   "cell_type": "code",
   "execution_count": null,
   "id": "41682d55",
   "metadata": {},
   "outputs": [],
   "source": [
    "#17. How do you distinguish between copy.copy() and copy.deepcopy()?\n",
    "Ans.:- copy() create reference to original object. If you change copied object - you change the original object. . deepcopy() creates new object and does real copying of original object to new one"
   ]
  }
 ],
 "metadata": {
  "kernelspec": {
   "display_name": "Python 3 (ipykernel)",
   "language": "python",
   "name": "python3"
  },
  "language_info": {
   "codemirror_mode": {
    "name": "ipython",
    "version": 3
   },
   "file_extension": ".py",
   "mimetype": "text/x-python",
   "name": "python",
   "nbconvert_exporter": "python",
   "pygments_lexer": "ipython3",
   "version": "3.9.12"
  }
 },
 "nbformat": 4,
 "nbformat_minor": 5
}
