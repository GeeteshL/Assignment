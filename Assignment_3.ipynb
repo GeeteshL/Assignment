{
 "cells": [
  {
   "cell_type": "code",
   "execution_count": null,
   "id": "133ec938",
   "metadata": {},
   "outputs": [],
   "source": [
    "1. Why are functions advantageous to have in your programs?\n",
    "Ans.:- Function reduce the need for duplicate code . this makes programs shorter ,easier to read and easier to update"
   ]
  },
  {
   "cell_type": "code",
   "execution_count": null,
   "id": "bdae8e61",
   "metadata": {},
   "outputs": [],
   "source": [
    "2. When does the code in a function run: when it called?\n",
    "Ans.:- The code in a function excecutes when the function is called , not when the function is defined"
   ]
  },
  {
   "cell_type": "code",
   "execution_count": null,
   "id": "edef3730",
   "metadata": {},
   "outputs": [],
   "source": [
    "3. What statement creates a function?\n",
    "Ans.: the def statement define a function"
   ]
  },
  {
   "cell_type": "code",
   "execution_count": null,
   "id": "e4895226",
   "metadata": {},
   "outputs": [],
   "source": [
    "4. What is the difference between a function and a function call?\n",
    "Ans.:-  A function consist of the def statement and the code in its def clause\n",
    "        a function call is what moves the program execution into the function and the function call evaluates to the function return value"
   ]
  },
  {
   "cell_type": "code",
   "execution_count": null,
   "id": "4c4fedf2",
   "metadata": {},
   "outputs": [],
   "source": [
    "5. How many global scopes are there in a Python program? How many local scopes?\n",
    "Ans.:- there is one global scope ,and a local scope is create whenever a function is called"
   ]
  },
  {
   "cell_type": "code",
   "execution_count": null,
   "id": "dfdf5d04",
   "metadata": {},
   "outputs": [],
   "source": [
    "6. What happens to variables in a local scope when the function call returns?\n",
    "Ans.:- when  a function return the local scope is destroyed and all the variables in it are forgotten."
   ]
  },
  {
   "cell_type": "code",
   "execution_count": null,
   "id": "1cc7700f",
   "metadata": {},
   "outputs": [],
   "source": [
    "7. What is the concept of a return value? Is it possible to have a return value in an expression?\n",
    "Ans.:-  A return value is the value that a function  call evaluates to.like any value ,a return value can be used as part of an expression."
   ]
  },
  {
   "cell_type": "code",
   "execution_count": null,
   "id": "fefb1ac1",
   "metadata": {},
   "outputs": [],
   "source": [
    "8. If a function does not have a return statement, what is the return value of a call to that function?\n",
    "Ans.:- If there is no return statement for  a function ,its return value is note"
   ]
  },
  {
   "cell_type": "code",
   "execution_count": null,
   "id": "d2f99768",
   "metadata": {},
   "outputs": [],
   "source": [
    "9. How do you make a function variable refer to the global variable?\n",
    "Ans.:-  A global statement will force a variable in a function to refet to the global variable"
   ]
  },
  {
   "cell_type": "code",
   "execution_count": null,
   "id": "04d4abf4",
   "metadata": {},
   "outputs": [],
   "source": [
    "10. What is the data type of None?\n",
    "Ans.:- The None keyword is used to define a null value ,or no value at all . none is not the same as 0,false ,or an empty string.None is a data type of its own None Type and only none can be none"
   ]
  },
  {
   "cell_type": "code",
   "execution_count": null,
   "id": "dbeed508",
   "metadata": {},
   "outputs": [],
   "source": [
    "11. What does the sentence import areallyourpetsnamederic do?\n",
    "Ans.:- This import statement  import a module named areallyourpetsnamederic. (This is not python module )"
   ]
  },
  {
   "cell_type": "code",
   "execution_count": null,
   "id": "33c86e53",
   "metadata": {},
   "outputs": [],
   "source": [
    "12. If you had a bacon() feature in a spam module, what would you call it after importing spam?\n",
    "Ans.:- spam.bacon()"
   ]
  },
  {
   "cell_type": "code",
   "execution_count": null,
   "id": "a1c3f381",
   "metadata": {},
   "outputs": [],
   "source": [
    "13. What can you do to save a programme from crashing if it encounters an error?\n",
    "Ans.:- Wnen it encounters an error , the control is passed to the except block ,skipping the code in between .As we have moved our code inside  a try and except statement .Try running the program and it should throw an error message instead pf crashing the program\n",
    "    "
   ]
  },
  {
   "cell_type": "code",
   "execution_count": null,
   "id": "540a3acf",
   "metadata": {},
   "outputs": [],
   "source": [
    "14. What is the purpose of the try clause? What is the purpose of the except clause?\n",
    "Ans.:- The Try block lets you test block of code for error .The Except block lets you handle the error\n",
    "    "
   ]
  }
 ],
 "metadata": {
  "kernelspec": {
   "display_name": "Python 3 (ipykernel)",
   "language": "python",
   "name": "python3"
  },
  "language_info": {
   "codemirror_mode": {
    "name": "ipython",
    "version": 3
   },
   "file_extension": ".py",
   "mimetype": "text/x-python",
   "name": "python",
   "nbconvert_exporter": "python",
   "pygments_lexer": "ipython3",
   "version": "3.9.12"
  }
 },
 "nbformat": 4,
 "nbformat_minor": 5
}
