{
 "cells": [
  {
   "cell_type": "code",
   "execution_count": null,
   "id": "970e4b25",
   "metadata": {},
   "outputs": [],
   "source": [
    "1. What does an empty dictionary code look like?\n",
    "Ans:- Tow curly bracket {}"
   ]
  },
  {
   "cell_type": "code",
   "execution_count": null,
   "id": "9a55aa10",
   "metadata": {},
   "outputs": [],
   "source": [
    "2. What is the value of a dictionary value with the key foo and the value 42?\n",
    "Ans:- {foo:42}"
   ]
  },
  {
   "cell_type": "code",
   "execution_count": null,
   "id": "db6628b1",
   "metadata": {},
   "outputs": [],
   "source": [
    "3. What is the most significant distinction between a dictionary and a list?\n",
    "Ans:- The items stored in a dictionary are unordered, while the items in a list are ordered."
   ]
  },
  {
   "cell_type": "code",
   "execution_count": null,
   "id": "6bea470e",
   "metadata": {},
   "outputs": [],
   "source": [
    "4. What happens if you try to access spam[foo] if spam is {bar: 100}?\n",
    "Ans:- You get a KeyError error."
   ]
  },
  {
   "cell_type": "code",
   "execution_count": null,
   "id": "6e7b7f8b",
   "metadata": {},
   "outputs": [],
   "source": [
    "5. If a dictionary is stored in spam, what is the difference between the expressions cat in spam and cat in spam.keys()?\n",
    "Ans:- There is no difference. The in operator checks whether a value exists as a key in the dictionary."
   ]
  },
  {
   "cell_type": "code",
   "execution_count": null,
   "id": "2899bb4d",
   "metadata": {},
   "outputs": [],
   "source": [
    "6. If a dictionary is stored in spam, what is the difference between the expressions cat in spam and cat in spam.values()?\n",
    "Ans:- 'cat' in spam checks whether there is a 'cat' key in the dictionary, while 'cat' in spam.values() checks whether there is a value 'cat' for one of the keys in spam."
   ]
  },
  {
   "cell_type": "code",
   "execution_count": null,
   "id": "b2afab3f",
   "metadata": {},
   "outputs": [],
   "source": [
    "7. What is a shortcut for the following code?\n",
    "if color not in spam:\n",
    "spam[color] = black\n",
    "Ans:= spam.setdefault('color', 'black')\n",
    "    "
   ]
  },
  {
   "cell_type": "code",
   "execution_count": null,
   "id": "78fcffdb",
   "metadata": {},
   "outputs": [],
   "source": [
    "8. How do you pretty print dictionary values using which module and function?\n",
    "Ans:- pprint.pprint()"
   ]
  }
 ],
 "metadata": {
  "kernelspec": {
   "display_name": "Python 3 (ipykernel)",
   "language": "python",
   "name": "python3"
  },
  "language_info": {
   "codemirror_mode": {
    "name": "ipython",
    "version": 3
   },
   "file_extension": ".py",
   "mimetype": "text/x-python",
   "name": "python",
   "nbconvert_exporter": "python",
   "pygments_lexer": "ipython3",
   "version": "3.9.12"
  }
 },
 "nbformat": 4,
 "nbformat_minor": 5
}
