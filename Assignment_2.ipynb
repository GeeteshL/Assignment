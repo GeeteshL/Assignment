{
 "cells": [
  {
   "cell_type": "code",
   "execution_count": null,
   "id": "39b4cd97",
   "metadata": {},
   "outputs": [],
   "source": [
    "1.What are the two values of the Boolean data type? How do you write them?\n",
    "Ans.:- True and False\n",
    "       python is case sensitive language so, T and F in Capital with rest in smaller case"
   ]
  },
  {
   "cell_type": "code",
   "execution_count": null,
   "id": "7f628864",
   "metadata": {},
   "outputs": [],
   "source": [
    "2. What are the three different types of Boolean operators?\n",
    "Ans.:- and , or , not"
   ]
  },
  {
   "cell_type": "code",
   "execution_count": null,
   "id": "674cb22c",
   "metadata": {},
   "outputs": [],
   "source": [
    "3. Make a list of each Boolean operator truth tables (i.e. every possible combination of Boolean\n",
    "values for the operator and what it evaluate ).\n",
    "Ans.:- \n",
    "      True and True is True \n",
    "      True and False is False\n",
    "      False and True is False\n",
    "      False and False is False\n",
    "      True or True is True\n",
    "      True or False is True\n",
    "      False or True is True\n",
    "      False or false is False \n",
    "      notTrue is False\n",
    "      notFalse is True  \n",
    "        "
   ]
  },
  {
   "cell_type": "code",
   "execution_count": null,
   "id": "56f70893",
   "metadata": {},
   "outputs": [],
   "source": [
    "4. What are the values of the following expressions?\n",
    "Ans.:--\n",
    "(5>4) and (3 == 5) :- False\n",
    "not (5 >4)         :- False   \n",
    "(5 > 4) or (3 == 5) :-True\n",
    "not ((5 > 4) or (3 == 5)) :- False\n",
    "(True and True) and (True == False) :- False\n",
    "(not False) or (not True) :-True"
   ]
  },
  {
   "cell_type": "code",
   "execution_count": null,
   "id": "7cfd04ef",
   "metadata": {},
   "outputs": [],
   "source": [
    "5. What are the six comparison operators?\n",
    "Ans :-\n",
    "    == , !=,<,>,<=,>="
   ]
  },
  {
   "cell_type": "code",
   "execution_count": null,
   "id": "ca61eb88",
   "metadata": {},
   "outputs": [],
   "source": [
    "6. How do you tell the difference between the equal to and assignment operators?Describe a\n",
    "condition and when you would use one.\n",
    "Ans:-== is the equal to operator that compares two values and evaluates to a boolean ,while = is the assignment operator that stores a value in varible."
   ]
  },
  {
   "cell_type": "code",
   "execution_count": 1,
   "id": "8a44fb41",
   "metadata": {},
   "outputs": [
    {
     "name": "stdout",
     "output_type": "stream",
     "text": [
      "ham\n",
      "spam\n",
      "spam\n"
     ]
    }
   ],
   "source": [
    "#7. Identify the three blocks in this code:\n",
    "spam = 0\n",
    "if spam ==10:\n",
    "    print('eggs')\n",
    "if spam>5:\n",
    "    print('bacon')\n",
    "else :\n",
    "    print('ham')\n",
    "    print('spam')\n",
    "    print('spam')"
   ]
  },
  {
   "cell_type": "code",
   "execution_count": 5,
   "id": "fea443ca",
   "metadata": {},
   "outputs": [
    {
     "name": "stdout",
     "output_type": "stream",
     "text": [
      "hello\n"
     ]
    }
   ],
   "source": [
    "#8. Write code that prints Hello if 1 is stored in spam, prints Howdy if 2 is stored in spam, and prints Greetings! if anything else is stored in spam.\n",
    "\n",
    "if spam ==1 :\n",
    "    print('hello')\n",
    "elif spam == 2:\n",
    "    print('howdy')\n",
    "else:\n",
    "    print('Greeting')"
   ]
  },
  {
   "cell_type": "code",
   "execution_count": null,
   "id": "1d138830",
   "metadata": {},
   "outputs": [],
   "source": [
    "9.If your programme is stuck in an endless loop, what keys you’ll press?\n",
    "ans:- Ctrl + C is the key for programme is stuck in an endless loop"
   ]
  },
  {
   "cell_type": "code",
   "execution_count": null,
   "id": "3d4313b1",
   "metadata": {},
   "outputs": [],
   "source": [
    "10. How can you tell the difference between break and continue?\n",
    "Ans.:- The main difference between both the statement is that when break keyword comes, it terminates the excecution of the current loop and pass the conteol over the next loop or main body , whereas when coninues kyeyword is encountered ,it skip the current interation and executes the very next  iteration inthe loop.\n"
   ]
  },
  {
   "cell_type": "code",
   "execution_count": null,
   "id": "7daac24a",
   "metadata": {},
   "outputs": [],
   "source": [
    "11. In a for loop, what is the difference between range(10), range(0, 10), and range(0, 10, 1)?\n",
    "Ans.:- range(10) means it generates a list of 10 values , the legal indices for item of a sequences of length 10.\n",
    "       range(0,10) means range(start,stop) it generates a list of 10 values , the legal indices for item of a sequences of length 10\n",
    "       range(0,10,1) means range(start, stop ,step) it generates a list of 10 values , the legal indices for item of a sequences of length 10 with the step of one "
   ]
  },
  {
   "cell_type": "code",
   "execution_count": 16,
   "id": "3253163e",
   "metadata": {
    "scrolled": true
   },
   "outputs": [
    {
     "name": "stdout",
     "output_type": "stream",
     "text": [
      "0\n",
      "1\n",
      "2\n",
      "3\n",
      "4\n",
      "5\n",
      "6\n",
      "7\n",
      "8\n",
      "9\n"
     ]
    }
   ],
   "source": [
    "#12. Write a short program that prints the numbers 1 to 10 using a for loop. Then write an equivalent program that prints the numbers 1 to 10 using a while loop.\n",
    "for i in list(range(10)):\n",
    "    print(i)"
   ]
  },
  {
   "cell_type": "code",
   "execution_count": 2,
   "id": "ce8d7e80",
   "metadata": {},
   "outputs": [
    {
     "name": "stdout",
     "output_type": "stream",
     "text": [
      "0\n",
      "1\n",
      "2\n",
      "3\n",
      "4\n",
      "5\n",
      "6\n",
      "7\n",
      "8\n",
      "9\n",
      "10\n"
     ]
    }
   ],
   "source": [
    "a = 0\n",
    "b = 10\n",
    "while a<=b:\n",
    "    print(a)\n",
    "    a=a+1"
   ]
  },
  {
   "cell_type": "code",
   "execution_count": null,
   "id": "f0115968",
   "metadata": {},
   "outputs": [],
   "source": [
    "13. If you had a function named bacon() inside a module named spam, how would you call it after\n",
    "importing spam?\n",
    "Ans.:- this function can called by spam.bacon()"
   ]
  }
 ],
 "metadata": {
  "kernelspec": {
   "display_name": "Python 3 (ipykernel)",
   "language": "python",
   "name": "python3"
  },
  "language_info": {
   "codemirror_mode": {
    "name": "ipython",
    "version": 3
   },
   "file_extension": ".py",
   "mimetype": "text/x-python",
   "name": "python",
   "nbconvert_exporter": "python",
   "pygments_lexer": "ipython3",
   "version": "3.9.12"
  }
 },
 "nbformat": 4,
 "nbformat_minor": 5
}
